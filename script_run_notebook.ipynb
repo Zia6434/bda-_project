{
  "cells": [
    {
      "cell_type": "markdown",
      "source": [
        "#  Train using Azure Machine Learning Compute\n",
        "\n",
        "* Initialize a Workspace\n",
        "* Create an Experiment\n",
        "* Introduction to AmlCompute\n",
        "* Submit an AmlCompute script run using a persistent compute target\n",
        "* Download the fitted model from the run output artifacts"
      ],
      "metadata": {}
    },
    {
      "cell_type": "markdown",
      "source": [
        "## Prerequisites\n",
        "If you are using an Azure Machine Learning Compute Instance, **Experiment** is a logical container in an Azure ML Workspace. It hosts run records which can include run metrics and output artifacts from your experiments. Please ensure `azureml-core` is installed on the machine running Jupyter."
      ],
      "metadata": {}
    },
    {
      "cell_type": "code",
      "source": [
        "# Check core SDK version number\n",
        "import azureml.core\n",
        "\n",
        "print(\"SDK version:\", azureml.core.VERSION)"
      ],
      "outputs": [],
      "execution_count": null,
      "metadata": {}
    },
    {
      "cell_type": "markdown",
      "source": [
        "## Initialize a Workspace\n",
        "\n",
        "Initialize a workspace object from the previous experiment"
      ],
      "metadata": {}
    },
    {
      "cell_type": "code",
      "source": [
        "from azureml.core import Workspace\n",
        "\n",
        "# The workspace information from the previous experiment has been pre-filled for you.\n",
        "subscription_id = \"529bf150-cc26-4dd9-a3bf-ef000f0aa9c8\"\n",
        "resource_group = \"best\"\n",
        "workspace_name = \"ziaumer\"\n",
        "\n",
        "ws = Workspace(subscription_id=subscription_id, resource_group=resource_group, workspace_name=workspace_name)\n",
        "print(ws.name, ws.resource_group, ws.location, ws.subscription_id, sep = '\\n')"
      ],
      "outputs": [],
      "execution_count": null,
      "metadata": {
        "tags": [
          "create workspace"
        ],
        "automl_codegen": {
          "arguments": [
            "subscription_id",
            "resource_group",
            "workspace_name"
          ]
        }
      }
    },
    {
      "cell_type": "markdown",
      "source": [
        "## Create An Experiment\n",
        "\n",
        "**Experiment** is a logical container in an Azure ML Workspace. It hosts run records which can include run metrics and output artifacts from your experiments."
      ],
      "metadata": {}
    },
    {
      "cell_type": "code",
      "source": [
        "from azureml.core import Experiment\n",
        "\n",
        "# The experiment name has been pre-filled for you.\n",
        "experiment_name = \"test1\"\n",
        "experiment = Experiment(workspace = ws, name = experiment_name)"
      ],
      "outputs": [],
      "execution_count": null,
      "metadata": {
        "automl_codegen": {
          "arguments": [
            "experiment_name"
          ]
        }
      }
    },
    {
      "cell_type": "markdown",
      "source": [
        "## Introduction to AmlCompute\n",
        "\n",
        "Azure Machine Learning Compute is managed compute infrastructure that allows the user to easily create single to multi-node compute of the appropriate VM Family. It is created **within your workspace region** and is a resource that can be used by other users in your workspace. It autoscales by default to the max_nodes, when a job is submitted, and executes in a containerized environment packaging the dependencies as specified by the user. \n",
        "\n",
        "Since it is managed compute, job scheduling and cluster management are handled internally by Azure Machine Learning service. \n",
        "\n",
        "For more information on Azure Machine Learning Compute, please read [this article](https://docs.microsoft.com/azure/machine-learning/service/how-to-set-up-training-targets#amlcompute)\n",
        "\n",
        "**Note**: As with other Azure services, there are limits on certain resources (for eg. AmlCompute quota) associated with the Azure Machine Learning service. Please read [this article](https://docs.microsoft.com/azure/machine-learning/service/how-to-manage-quotas) on the default limits and how to request more quota.\n",
        "\n",
        "\n",
        "The training script is already created for you. Let's have a look."
      ],
      "metadata": {}
    },
    {
      "cell_type": "markdown",
      "source": [
        "### Create project directory\n",
        "\n",
        "Create a directory that will contain all the necessary code from your local machine that you will need access to on the remote resource. This includes the training script, and any additional files your training script depends on"
      ],
      "metadata": {}
    },
    {
      "cell_type": "code",
      "source": [
        "import os\n",
        "import shutil\n",
        "\n",
        "project_folder = os.path.join(\".\", experiment_name)\n",
        "os.makedirs(project_folder, exist_ok=True)\n",
        "shutil.copy('script.py', project_folder)"
      ],
      "outputs": [],
      "execution_count": null,
      "metadata": {}
    },
    {
      "cell_type": "markdown",
      "source": [
        "### Create environment\n",
        "\n",
        "Create Docker based environment with scikit-learn installed."
      ],
      "metadata": {}
    },
    {
      "cell_type": "code",
      "source": [
        "import hashlib\n",
        "from azureml.core import Environment\n",
        "from azureml.core.runconfig import DockerConfiguration\n",
        "from azureml.core.conda_dependencies import CondaDependencies\n",
        "\n",
        "myenv = Environment.get(ws, 'AzureML-AutoML', '115')\n",
        "\n",
        "# Enable Docker\n",
        "docker_config = DockerConfiguration(use_docker=True)"
      ],
      "outputs": [],
      "execution_count": null,
      "metadata": {
        "automl_codegen": {
          "arguments": [
            "training_package",
            "extra_index_url",
            "environment_name",
            "environment_version"
          ]
        }
      }
    },
    {
      "cell_type": "markdown",
      "source": [
        "### Provision as a persistent compute target (Basic)\n",
        "\n",
        "You can provision a persistent AmlCompute resource by simply defining two parameters thanks to smart defaults. By default it autoscales from 0 nodes and provisions dedicated VMs to run your job in a container. This is useful when you want to continously re-use the same target, debug it between jobs or simply share the resource with other users of your workspace.\n",
        "\n",
        "* `vm_size`: VM family of the nodes provisioned by AmlCompute. Simply choose from the supported_vmsizes() above\n",
        "* `max_nodes`: Maximum nodes to autoscale to while running a job on AmlCompute"
      ],
      "metadata": {}
    },
    {
      "cell_type": "code",
      "source": [
        "from azureml.core.compute import ComputeTarget, AmlCompute\n",
        "from azureml.core.compute_target import ComputeTargetException\n",
        "\n",
        "# Choose a name for your CPU cluster\n",
        "cluster_name = \"ziaurrehman64341\"\n",
        "\n",
        "# Verify that cluster does not exist already\n",
        "try:\n",
        "    cluster = ComputeTarget(workspace=ws, name=cluster_name)\n",
        "    print('Found existing cluster, use it.')\n",
        "except ComputeTargetException:\n",
        "    compute_config = AmlCompute.provisioning_configuration(vm_size='STANDARD_F4S_V2',\n",
        "                                                           max_nodes=4)\n",
        "    cluster = ComputeTarget.create(ws, cluster_name, compute_config)\n",
        "\n",
        "cluster.wait_for_completion(show_output=True)"
      ],
      "outputs": [],
      "execution_count": null,
      "metadata": {
        "tags": [
          "sample-amlcompute-provision"
        ],
        "automl_codegen": {
          "arguments": [
            "compute_target",
            "compute_sku"
          ]
        }
      }
    },
    {
      "cell_type": "markdown",
      "source": [
        "### Configure & Run"
      ],
      "metadata": {}
    },
    {
      "cell_type": "code",
      "source": [
        "import uuid\n",
        "from azureml.core import ScriptRunConfig\n",
        "from azureml._restclient.models import RunTypeV2\n",
        "from azureml._restclient.models.create_run_dto import CreateRunDto\n",
        "from azureml._restclient.run_client import RunClient\n",
        "\n",
        "codegen_runid = str(uuid.uuid4())\n",
        "client = RunClient(experiment.workspace.service_context, experiment.name, codegen_runid, experiment_id=experiment.id)\n",
        "\n",
        "# To test with new training / validation datasets, replace the default dataset id(s) taken from parent run below\n",
        "training_dataset_id = '0e8b36a0-9f67-4944-be0c-dfc180490169'\n",
        "dataset_arguments = ['--training_dataset_id', training_dataset_id]\n",
        "\n",
        "create_run_dto = CreateRunDto(run_id=codegen_runid,\n",
        "                              parent_run_id='AutoML_fac46753-417c-4df0-b616-a0addbc8909e_40',\n",
        "                              description='AutoML Codegen Script Run',\n",
        "                              target=cluster_name,\n",
        "                              run_type_v2=RunTypeV2(\n",
        "                                  orchestrator='Execution', traits=['automl-codegen']))\n",
        "src = ScriptRunConfig(source_directory=project_folder, \n",
        "                      script='script.py', \n",
        "                      arguments=dataset_arguments, \n",
        "                      compute_target=cluster, \n",
        "                      environment=myenv,\n",
        "                      docker_runtime_config=docker_config)\n",
        "run_dto = client.create_run(run_id=codegen_runid, create_run_dto=create_run_dto)\n",
        " \n",
        "run = experiment.submit(config=src, run_id=codegen_runid)\n",
        "run"
      ],
      "outputs": [],
      "execution_count": null,
      "metadata": {
        "automl_codegen": {
          "arguments": [
            "script_filename"
          ]
        }
      }
    },
    {
      "cell_type": "markdown",
      "source": [
        "Note: if you need to cancel a run, you can follow [these instructions](https://aka.ms/aml-docs-cancel-run)."
      ],
      "metadata": {}
    },
    {
      "cell_type": "code",
      "source": [
        "%%time\n",
        "# Shows output of the run on stdout.\n",
        "run.wait_for_completion(show_output=True)"
      ],
      "outputs": [],
      "execution_count": null,
      "metadata": {}
    },
    {
      "cell_type": "code",
      "source": [
        "run.get_metrics()"
      ],
      "outputs": [],
      "execution_count": null,
      "metadata": {}
    },
    {
      "cell_type": "markdown",
      "source": [
        "### Download Fitted Model"
      ],
      "metadata": {}
    },
    {
      "cell_type": "code",
      "source": [
        "import joblib\n",
        "\n",
        "# Load the fitted model from the script run.\n",
        "\n",
        "# Note that if training dependencies are not installed on the machine\n",
        "# this notebook is being run from, this step can fail.\n",
        "try:\n",
        "    run.download_file(\"outputs/model.pkl\", \"model.pkl\")\n",
        "    model = joblib.load(\"model.pkl\")\n",
        "except ImportError:\n",
        "    print('Required dependencies are missing; please run pip install azureml-automl-runtime.')\n",
        "    raise"
      ],
      "outputs": [],
      "execution_count": null,
      "metadata": {}
    },
    {
      "cell_type": "markdown",
      "source": [
        "You can now inference using this model.  \n",
        "For classification/regression, call `model.predict()`  \n",
        "For forecasting, call `model.forecast()`"
      ],
      "metadata": {}
    }
  ],
  "metadata": {
    "index_order": 1,
    "automl_sdk_version": "1.42.0",
    "exclude_from_index": false,
    "task": "Submit a run on Azure Machine Learning Compute.",
    "deployment": [
      "None"
    ],
    "authors": [
      {
        "name": "erah"
      }
    ],
    "kernel_info": {
      "name": "python3"
    },
    "language_info": {
      "name": "python",
      "version": "3.8.5",
      "mimetype": "text/x-python",
      "codemirror_mode": {
        "name": "ipython",
        "version": 3
      },
      "pygments_lexer": "ipython3",
      "nbconvert_exporter": "python",
      "file_extension": ".py"
    },
    "compute": [
      "AML Compute"
    ],
    "kernelspec": {
      "name": "python3",
      "language": "python",
      "display_name": "Python 3 (ipykernel)"
    },
    "tags": [
      "None"
    ],
    "datasets": [
      "Diabetes"
    ],
    "category": "training",
    "framework": [
      "None"
    ],
    "friendly_name": "Train on Azure Machine Learning Compute",
    "nteract": {
      "version": "nteract-front-end@1.0.0"
    }
  },
  "nbformat": 4,
  "nbformat_minor": 2
}